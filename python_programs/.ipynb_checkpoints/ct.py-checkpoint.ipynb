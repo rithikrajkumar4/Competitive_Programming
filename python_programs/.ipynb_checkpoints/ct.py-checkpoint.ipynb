{
 "cells": [
  {
   "cell_type": "code",
   "execution_count": 10,
   "metadata": {},
   "outputs": [
    {
     "name": "stdout",
     "output_type": "stream",
     "text": [
      "Enter string:rithikrajkumar\n",
      "r\n"
     ]
    }
   ],
   "source": [
    "dict = {}\n",
    "s = input(\"Enter string:\")\n",
    "for x in s:\n",
    "    if x in dict:\n",
    "        dict[x]+=1\n",
    "    else:\n",
    "        dict[x]=1\n",
    "\n",
    "for x in dict:\n",
    "    print(\"char: \",x,\" freq:\",dict[x])\n"
   ]
  },
  {
   "cell_type": "code",
   "execution_count": null,
   "metadata": {},
   "outputs": [],
   "source": []
  }
 ],
 "metadata": {
  "kernelspec": {
   "display_name": "Python 3",
   "language": "python",
   "name": "python3"
  },
  "language_info": {
   "codemirror_mode": {
    "name": "ipython",
    "version": 3
   },
   "file_extension": ".py",
   "mimetype": "text/x-python",
   "name": "python",
   "nbconvert_exporter": "python",
   "pygments_lexer": "ipython3",
   "version": "3.8.3"
  }
 },
 "nbformat": 4,
 "nbformat_minor": 4
}
