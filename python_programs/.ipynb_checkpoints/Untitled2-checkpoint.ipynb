{
 "cells": [
  {
   "cell_type": "code",
   "execution_count": 42,
   "metadata": {},
   "outputs": [
    {
     "name": "stdout",
     "output_type": "stream",
     "text": [
      "[1, 2, 2, 2, 2, 2, 3, 3, 3, 3, 3, 33, 3, 3, 3, 3, 3, 4, 5, 6, 6, 6, 6, 6, 7, 8, 9, 10]\n"
     ]
    }
   ],
   "source": [
    "import array as arr\n",
    "l = [1,2,2,2,2,2,3,3,3,3,3,33,3,3,3,3,3,4,5,6,6,6,6,6,7,8,9,10]\n",
    "a = arr.array('i',l)\n",
    "print(\"Array Element is:\")\n",
    "for i in range(len(a)):\n",
    "    print(a[i],end = \" \")\n",
    "print()\n",
    "new_list = a.tolist()\n",
    "print(\"Convert the said array to an ordinary list with the same items:\")\n",
    "print(new_list)\n",
    "\n"
   ]
  },
  {
   "cell_type": "code",
   "execution_count": null,
   "metadata": {},
   "outputs": [],
   "source": []
  }
 ],
 "metadata": {
  "kernelspec": {
   "display_name": "Python 3",
   "language": "python",
   "name": "python3"
  },
  "language_info": {
   "codemirror_mode": {
    "name": "ipython",
    "version": 3
   },
   "file_extension": ".py",
   "mimetype": "text/x-python",
   "name": "python",
   "nbconvert_exporter": "python",
   "pygments_lexer": "ipython3",
   "version": "3.8.3"
  }
 },
 "nbformat": 4,
 "nbformat_minor": 4
}
