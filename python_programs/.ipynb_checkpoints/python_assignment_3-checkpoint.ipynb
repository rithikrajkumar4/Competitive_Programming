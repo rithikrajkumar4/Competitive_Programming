{
 "cells": [
  {
   "cell_type": "code",
   "execution_count": 36,
   "metadata": {},
   "outputs": [
    {
     "name": "stdout",
     "output_type": "stream",
     "text": [
      "Enter no, of elements in l1:3\n",
      "Enetr no. of elements in l2:1\n",
      "Enter elements in l1:\n",
      "Enter value : 2\n",
      "Enter value : 3\n",
      "Enter value : 4\n",
      "Enter elements in l2:\n",
      "Enter value : 3\n",
      "True\n"
     ]
    }
   ],
   "source": [
    "l1 = []\n",
    "l2 = []\n",
    "n1 = int(input(\"Enter no, of elements in l1:\"))\n",
    "n2 = int(input(\"Enetr no. of elements in l2:\"))\n",
    "print(\"Enter elements in l1:\")\n",
    "for i in range(n1):\n",
    "    s = input(\"Enter value : \")\n",
    "    l1.append(s)\n",
    "print(\"Enter elements in l2:\")\n",
    "for i in range(n2):\n",
    "    s = input(\"Enter value : \")\n",
    "    l2.append(s)\n",
    "t = False\n",
    "for i in l1:\n",
    "    if i in l2:\n",
    "        t = True\n",
    "        break\n",
    "print(t)\n"
   ]
  },
  {
   "cell_type": "code",
   "execution_count": null,
   "metadata": {},
   "outputs": [],
   "source": []
  }
 ],
 "metadata": {
  "kernelspec": {
   "display_name": "Python 3",
   "language": "python",
   "name": "python3"
  },
  "language_info": {
   "codemirror_mode": {
    "name": "ipython",
    "version": 3
   },
   "file_extension": ".py",
   "mimetype": "text/x-python",
   "name": "python",
   "nbconvert_exporter": "python",
   "pygments_lexer": "ipython3",
   "version": "3.8.3"
  }
 },
 "nbformat": 4,
 "nbformat_minor": 4
}
