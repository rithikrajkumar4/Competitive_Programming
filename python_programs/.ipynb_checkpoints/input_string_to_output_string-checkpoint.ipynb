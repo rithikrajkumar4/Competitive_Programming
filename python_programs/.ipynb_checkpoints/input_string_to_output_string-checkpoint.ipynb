{
 "cells": [
  {
   "cell_type": "code",
   "execution_count": 18,
   "metadata": {},
   "outputs": [
    {
     "ename": "SyntaxError",
     "evalue": "invalid syntax (<ipython-input-18-76829a09bec6>, line 34)",
     "output_type": "error",
     "traceback": [
      "\u001b[1;36m  File \u001b[1;32m\"<ipython-input-18-76829a09bec6>\"\u001b[1;36m, line \u001b[1;32m34\u001b[0m\n\u001b[1;33m    else\u001b[0m\n\u001b[1;37m        ^\u001b[0m\n\u001b[1;31mSyntaxError\u001b[0m\u001b[1;31m:\u001b[0m invalid syntax\n"
     ]
    }
   ],
   "source": [
    "def no_of_vowels(input_string):\n",
    "    total = 0\n",
    "    s = input_string.lower()\n",
    "    for vowel in \"aeiou\":\n",
    "        count= s.count(vowel)\n",
    "        total+=count\n",
    "    return total\n",
    "        \n",
    "def d_occ(input_string):\n",
    "    total = 0;\n",
    "    for it in input_string:\n",
    "        if(it == 'd'):\n",
    "            total+=1\n",
    "    return total\n",
    "\n",
    "def get_string(input_string):\n",
    "    output_string = ''\n",
    "    if(input_string[0] == 'A'):\n",
    "        output_string = input_string[1:3]\n",
    "    elif(no_of_vowels(input_string)>3):\n",
    "        for it in input_string:\n",
    "            if(it == 'a' or it =='A'):\n",
    "                output_string += it\n",
    "            if(it == 'e' or it =='E'):\n",
    "                output_string += it\n",
    "            if(it == 'i' or it =='I'):\n",
    "                output_string += it\n",
    "            if(it == 'O' or it =='o'):\n",
    "                output_string += it\n",
    "            if(it == 'u' or it =='U'):\n",
    "                output_string += it\n",
    "    elif(d_occ(input_string)>=1):\n",
    "        output_string = str(d_occ(input_string))+'d';\n",
    "    else:\n",
    "        output_string = input_string.lower();\n",
    "    return output_string\n",
    "        \n",
    "get_string(\"DGfge\")\n"
   ]
  },
  {
   "cell_type": "code",
   "execution_count": null,
   "metadata": {},
   "outputs": [],
   "source": []
  }
 ],
 "metadata": {
  "kernelspec": {
   "display_name": "Python 3",
   "language": "python",
   "name": "python3"
  },
  "language_info": {
   "codemirror_mode": {
    "name": "ipython",
    "version": 3
   },
   "file_extension": ".py",
   "mimetype": "text/x-python",
   "name": "python",
   "nbconvert_exporter": "python",
   "pygments_lexer": "ipython3",
   "version": "3.8.3"
  }
 },
 "nbformat": 4,
 "nbformat_minor": 4
}
